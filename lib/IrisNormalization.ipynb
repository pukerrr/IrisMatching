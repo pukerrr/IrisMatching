{
 "cells": [
  {
   "cell_type": "code",
   "execution_count": null,
   "metadata": {},
   "outputs": [],
   "source": [
    "import cv2\n",
    "import numpy as np\n",
    "import matplotlib.pyplot as plt\n",
    "import sklearn.metrics as sk\n",
    "import scipy.signal\n",
    "import os\n",
    "import sys"
   ]
  },
  {
   "cell_type": "code",
   "execution_count": null,
   "metadata": {},
   "outputs": [],
   "source": [
    "def IrisNormalization(circle_p, circle_i,image,theta = 0):\n",
    "    \"\"\"give the return value of IrisLocalization, return the normalized image, \n",
    "    which is 64*512 \"\"\"\n",
    "    \n",
    "    mapx = np.ndarray((64,512),dtype=np.float32)\n",
    "    mapy = np.ndarray((64,512),dtype=np.float32)\n",
    "    for i in range(64):\n",
    "        for j in range(512):\n",
    "            theta1 = (2*np.pi*j/1024)+theta-np.pi/2\n",
    "            ratio = i/128\n",
    "            xp = circle_p[0]+circle_p[2]*np.sin(theta1)\n",
    "            yp = circle_p[1]+circle_p[2]*np.cos(theta1)\n",
    "            xi = circle_i[0]+circle_i[2]*np.sin(theta1)\n",
    "            yi = circle_i[1]+circle_i[2]*np.cos(theta1)\n",
    "            mapx[i,j] = xp+ratio*(xi-xp)\n",
    "            mapy[i,j] = yp+ratio*(yi-yp)\n",
    "    result = cv2.remap(image,mapx,mapy,cv2.INTER_LINEAR)\n",
    "    return result"
   ]
  }
 ],
 "metadata": {
  "kernelspec": {
   "display_name": "Python 3",
   "language": "python",
   "name": "python3"
  },
  "language_info": {
   "codemirror_mode": {
    "name": "ipython",
    "version": 3
   },
   "file_extension": ".py",
   "mimetype": "text/x-python",
   "name": "python",
   "nbconvert_exporter": "python",
   "pygments_lexer": "ipython3",
   "version": "3.6.7"
  }
 },
 "nbformat": 4,
 "nbformat_minor": 2
}
