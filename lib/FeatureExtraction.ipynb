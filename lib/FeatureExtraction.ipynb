{
 "cells": [
  {
   "cell_type": "code",
   "execution_count": 1,
   "metadata": {},
   "outputs": [],
   "source": [
    "import cv2\n",
    "import numpy as np\n",
    "import matplotlib.pyplot as plt\n",
    "import sklearn.metrics as sk\n",
    "import scipy.signal\n",
    "import os\n",
    "import sys"
   ]
  },
  {
   "cell_type": "code",
   "execution_count": 2,
   "metadata": {},
   "outputs": [],
   "source": [
    "def modulating_function(x, y, f):\n",
    "    m = np.cos(2*np.pi*f*np.sqrt(x**2+y**2))\n",
    "    return m"
   ]
  },
  {
   "cell_type": "code",
   "execution_count": 3,
   "metadata": {},
   "outputs": [],
   "source": [
    "def kernel(x, y, f, sigmaX, sigmaY):\n",
    "    g = (1/(2*np.pi*sigmaX*sigmaY))*np.exp(-0.5*(x**2/sigmaX**2 + \n",
    "                                                 y**2/sigmaY**2))*\\\n",
    "    modulating_function(x, y, f)\n",
    "    return g"
   ]
  },
  {
   "cell_type": "code",
   "execution_count": 4,
   "metadata": {},
   "outputs": [],
   "source": [
    "def spatial_filter(f, sigmaX, sigmaY):\n",
    "    s_filter = np.zeros((8, 8))\n",
    "    for i in range(8):\n",
    "        for j in range(8):\n",
    "            s_filter[i, j] = kernel((j), (i), f, sigmaX, sigmaY)\n",
    "    return s_filter"
   ]
  },
  {
   "cell_type": "code",
   "execution_count": 5,
   "metadata": {},
   "outputs": [],
   "source": [
    "def FeatureExtraction(image):\n",
    "    \"\"\"give the enhanced image, return the feature vector of the image\"\"\"\n",
    "    \n",
    "    # Step 1: Find the region of interest.\n",
    "    roi = image[:48,:]\n",
    "    \n",
    "    # Step 2: Get two filtered image.\n",
    "    filter1 = spatial_filter(0.6, 3, 1.5)\n",
    "    filtered1 = scipy.signal.convolve2d(roi, filter1, mode='same')\n",
    "    filter2 = spatial_filter(0.6, 4.5, 1.5)\n",
    "    filtered2 = scipy.signal.convolve2d(roi, filter2, mode='same')\n",
    "    \n",
    "    #Step 3: Get the feature vector.\n",
    "    feature_vec = np.zeros(1536)\n",
    "    for i in range(2):\n",
    "        filtered = [filtered1, filtered2][i]\n",
    "        for j in range(6):\n",
    "            for k in range(64):\n",
    "                mean = np.mean(abs(filtered[j*8:(j+1)*8, k*8:(k+1)*8]))\n",
    "                sd = np.mean(abs(abs(filtered[j*8:(j+1)*8, k*8:(k+1)*8])- mean))\n",
    "                feature_vec[i*768 + 128*j + 2*k] = mean\n",
    "                feature_vec[i*768 + 128*j + 2*k + 1] = sd        \n",
    "    return feature_vec.reshape(1,-1)"
   ]
  },
  {
   "cell_type": "code",
   "execution_count": null,
   "metadata": {},
   "outputs": [],
   "source": []
  }
 ],
 "metadata": {
  "kernelspec": {
   "display_name": "Python 3",
   "language": "python",
   "name": "python3"
  },
  "language_info": {
   "codemirror_mode": {
    "name": "ipython",
    "version": 3
   },
   "file_extension": ".py",
   "mimetype": "text/x-python",
   "name": "python",
   "nbconvert_exporter": "python",
   "pygments_lexer": "ipython3",
   "version": "3.6.7"
  }
 },
 "nbformat": 4,
 "nbformat_minor": 2
}
