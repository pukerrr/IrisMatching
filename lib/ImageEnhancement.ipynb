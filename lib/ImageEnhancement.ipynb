{
 "cells": [
  {
   "cell_type": "code",
   "execution_count": null,
   "metadata": {},
   "outputs": [],
   "source": [
    "import cv2\n",
    "import numpy as np\n",
    "import matplotlib.pyplot as plt\n",
    "import sklearn.metrics as sk\n",
    "import scipy.signal\n",
    "import os\n",
    "import sys"
   ]
  },
  {
   "cell_type": "code",
   "execution_count": null,
   "metadata": {},
   "outputs": [],
   "source": [
    "def ImageEnhancement(image):\n",
    "    \"\"\"give the normalized image, return an enhanced image\"\"\"\n",
    "    \n",
    "    # Step1: Take average of 16*16 window as approx. illumination\n",
    "    #illum = np.ndarray((4,32),dtype = np.float32)\n",
    "    #for i in range(4):\n",
    "    #    for j in range(32):\n",
    "    #        illum[i,j] = np.sum(image[(16*i):(16*(i+1)),(16*j):(16*(j+1))])/256\n",
    "            \n",
    "    # Step2: Expand the illumination size to 64*512 by bicubic interpolation.\n",
    "    #illum_whole = cv2.resize(illum, None,fx=16, fy=16, interpolation=cv2.INTER_CUBIC)\n",
    "    \n",
    "    # Step3: Subtract the illumination to compensate for lighting conditions.\n",
    "    #for i in range(64):\n",
    "    #    for j in range(512):\n",
    "    #        image[i, j] -= illum_whole[i, j]\n",
    "            \n",
    "    # Step4: Enhance the lighting corrected image by histogram equalization\n",
    "    \n",
    "    # Normal histogram equalization\n",
    "    #equalized_image = cv2.equalizeHist(image)\n",
    "    for i in range(2):\n",
    "        for j in range(16):\n",
    "            image[(32*i):(32*(i+1)),(32*j):(32*(j+1))] = cv2.equalizeHist(image[(32*i):(32*(i+1)),(32*j):(32*(j+1))])\n",
    "    # Adaptive histogram equalization\n",
    "    #clahe = cv2.createCLAHE(clipLimit=3, tileGridSize=(32,32))\n",
    "    #equalized_image = clahe.apply(image)\n",
    "    \n",
    "    return image"
   ]
  }
 ],
 "metadata": {
  "kernelspec": {
   "display_name": "Python 3",
   "language": "python",
   "name": "python3"
  },
  "language_info": {
   "codemirror_mode": {
    "name": "ipython",
    "version": 3
   },
   "file_extension": ".py",
   "mimetype": "text/x-python",
   "name": "python",
   "nbconvert_exporter": "python",
   "pygments_lexer": "ipython3",
   "version": "3.6.7"
  }
 },
 "nbformat": 4,
 "nbformat_minor": 2
}
