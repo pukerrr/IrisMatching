{
 "cells": [
  {
   "cell_type": "code",
   "execution_count": 3,
   "metadata": {},
   "outputs": [],
   "source": [
    "import cv2\n",
    "import numpy as np\n",
    "import matplotlib.pyplot as plt\n",
    "#import sklearn.metrics as sk\n",
    "#import scipy.signal\n",
    "import os\n",
    "import sys"
   ]
  },
  {
   "cell_type": "code",
   "execution_count": 2,
   "metadata": {},
   "outputs": [],
   "source": [
    "def IrisLocalization(image):\n",
    "    \"\"\"give a file path to an iris image, return two lists of parameters of the\n",
    "    inner and outer circles. The first list is the inner circle and the second\n",
    "    list is the outer circle. The first number is x coordinate of the circle, \n",
    "    the second number is the y coordinate, and the last one is the radius of the\n",
    "    circle.\"\"\"\n",
    "    \n",
    "    # Step 1: Project the image on x-axis and y-axis, the minima are considered \n",
    "    # the center of the pupil.\n",
    "    \n",
    "    #plt.imshow(image)\n",
    "    #plt.show()\n",
    "    xp = np.argmin(np.sum(image, axis=0)[100:180])+100\n",
    "    yp = np.argmin(np.sum(image, axis=1)[100:180])+100\n",
    "    \n",
    "    \n",
    "    # Step 2: Find a reasonable threshold to find a more accurate pupil \n",
    "    # coordinates. Repeat the step twice for a more accurate estimate.\n",
    "    \n",
    "    for i in range(2):\n",
    "        region = image[yp-60:yp+60, xp-60:xp+60]\n",
    "        retval, dst = cv2.threshold(region, 65, 1, cv2.THRESH_BINARY)\n",
    "        mask = np.where(dst != 0, 1, 0)\n",
    "        xp += np.argmin(np.sum(mask, axis=0)) - 60\n",
    "        yp += np.argmin(np.sum(mask, axis=1)) - 60\n",
    "    \n",
    "    # Step 3: Use Canny edge detection and Hough transform to find two circles.\n",
    "    \n",
    "    # set two smaller regions to detect edges faster\n",
    "    width1 = 70\n",
    "    region_inner = image[max(0, yp-width1):min(280, yp+width1), \n",
    "                       max(0, xp-width1):min(320, xp+width1)]\n",
    "    width2 = 125\n",
    "    region_outer = image[max(0, yp-width2):min(280, yp+width2), \n",
    "                       max(0, xp-width2):min(320, xp+width2)]\n",
    "    \n",
    "    # get two parameters for canny edge detection for the inner circle\n",
    "    var = 0.33\n",
    "    median = np.median(region_inner)\n",
    "    para1 = int(max(0, (1.0 - var) * median))\n",
    "    para2 = int(min(255, (1.0 + var) * median))\n",
    "    \n",
    "    # remove noise caused by eye lashes\n",
    "    inner_filter = cv2.bilateralFilter(region_inner,9,95,95) \n",
    "    # use canny edge detector to get an image of inner boundary\n",
    "    edged_inner = cv2.Canny(inner_filter, para1, para2)\n",
    "    inner_circles = cv2.HoughCircles(edged_inner, cv2.HOUGH_GRADIENT, 1,300, \n",
    "                                     param1=50, param2=10, minRadius=25, \n",
    "                                     maxRadius=58)\n",
    "    region_outer = cv2.bilateralFilter(region_outer,9,95,95) \n",
    "    outer_circles = cv2.HoughCircles(region_outer, cv2.HOUGH_GRADIENT, 1,300, \n",
    "                                     param1=30, param2=10, minRadius=95, \n",
    "                                     maxRadius=114)\n",
    "    \n",
    "    # draw circles\n",
    "    # pupil boundary\n",
    "    for i in inner_circles[0,:]:\n",
    "        inner_circle = [int(i[0])+xp-width1, int(i[1])+yp-width1, i[2]]\n",
    "    # iris boundary\n",
    "    for i in outer_circles[0,:]:\n",
    "        outer_circle = [int(i[0])+xp-width2, int(i[1])+yp-width2, i[2]]\n",
    "    #plt.imshow(image)\n",
    "    #plt.show()\n",
    "    return (inner_circle, outer_circle)"
   ]
  },
  {
   "cell_type": "code",
   "execution_count": null,
   "metadata": {},
   "outputs": [],
   "source": []
  }
 ],
 "metadata": {
  "kernelspec": {
   "display_name": "Python 3",
   "language": "python",
   "name": "python3"
  },
  "language_info": {
   "codemirror_mode": {
    "name": "ipython",
    "version": 3
   },
   "file_extension": ".py",
   "mimetype": "text/x-python",
   "name": "python",
   "nbconvert_exporter": "python",
   "pygments_lexer": "ipython3",
   "version": "3.6.7"
  }
 },
 "nbformat": 4,
 "nbformat_minor": 2
}
