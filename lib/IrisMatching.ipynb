{
 "cells": [
  {
   "cell_type": "code",
   "execution_count": null,
   "metadata": {},
   "outputs": [],
   "source": [
    "import cv2\n",
    "import numpy as np\n",
    "import matplotlib.pyplot as plt\n",
    "import sklearn.metrics as sk\n",
    "import scipy.signal\n",
    "import os\n",
    "import sys"
   ]
  },
  {
   "cell_type": "code",
   "execution_count": 1,
   "metadata": {},
   "outputs": [],
   "source": [
    "def IrisMatching(trainfeature, testfeature, distanceMeasure=1, n_components = 80):\n",
    "    \"\"\"for distance measure, 1 is cosine similarity, 2 is euclidean distance, 3 is manhattan distance.\n",
    "    give train feature and test feature, specify distance measure method, and the number of components in LDA, \n",
    "    return the prediction accuracy.\"\"\"\n",
    "    \n",
    "    # response is the y, i.e. the true number of eyes for each feature vector\n",
    "    response = np.repeat(np.arange(1,109), 21)\n",
    "    \n",
    "    # use the feature vector and response to do linear discriminant analysis.\n",
    "    clf = LinearDiscriminantAnalysis(n_components=n_components)\n",
    "    clf.fit(trainfeature, response)\n",
    "    \n",
    "    # reduce the dimension to the specified number\n",
    "    new_train_feat = clf.transform(trainfeature)\n",
    "    new_test_feat = clf.transform(testfeature)\n",
    "    \n",
    "    result = []\n",
    "    if distanceMeasure == 1:\n",
    "        for i in range(new_test_feat.shape[0]):\n",
    "            result.append(response[np.argmax(sk.pairwise.cosine_similarity(new_train_feat,new_test_feat[i,].reshape(1,n_components)))])\n",
    "    elif distanceMeasure == 2:\n",
    "        for i in range(new_test_feat.shape[0]):\n",
    "            result.append(response[np.argmin(sk.pairwise.euclidean_distances(new_train_feat,new_test_feat[i,].reshape(1,n_components)))])\n",
    "    elif distanceMeasure == 3:\n",
    "        for i in range(new_test_feat.shape[0]):\n",
    "            result.append(response[np.argmin(sk.pairwise.manhattan_distances(new_train_feat,new_test_feat[i,].reshape(1,n_components)))])\n",
    "    \n",
    "    \n",
    "    # compare answers to get accuracy\n",
    "    accuracy = sum(np.array(result) == np.arange(new_test_feat.shape[0])+1)/new_test_feat.shape[0]\n",
    "    return accuracy"
   ]
  }
 ],
 "metadata": {
  "kernelspec": {
   "display_name": "Python 3",
   "language": "python",
   "name": "python3"
  },
  "language_info": {
   "codemirror_mode": {
    "name": "ipython",
    "version": 3
   },
   "file_extension": ".py",
   "mimetype": "text/x-python",
   "name": "python",
   "nbconvert_exporter": "python",
   "pygments_lexer": "ipython3",
   "version": "3.6.7"
  }
 },
 "nbformat": 4,
 "nbformat_minor": 2
}
