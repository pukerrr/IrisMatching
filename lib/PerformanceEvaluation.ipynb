{
 "cells": [
  {
   "cell_type": "code",
   "execution_count": null,
   "metadata": {},
   "outputs": [],
   "source": [
    "import cv2\n",
    "import numpy as np\n",
    "import matplotlib.pyplot as plt\n",
    "import sklearn.metrics as sk\n",
    "import scipy.signal\n",
    "import os\n",
    "import sys\n",
    "from IrisLocalization  import *\n",
    "from IrisNormalization import *\n",
    "from ImageEnhancement import *\n",
    "from FeatureExtraction import *\n",
    "from IrisMatching      import *"
   ]
  },
  {
   "cell_type": "code",
   "execution_count": null,
   "metadata": {},
   "outputs": [],
   "source": [
    "x = np.arange(1,11)*10\n",
    "\n",
    "# Get the performance for different feature vector dimentions as well as different distance \n",
    "# measure methods\n",
    "l1norm = []\n",
    "l2norm = []\n",
    "CosSimilarity = []\n",
    "for i in range(10, 101, 10):\n",
    "    l1norm.append(IrisMatching(trainfeature, testfeature, 3, n_components = i))\n",
    "    l2norm.append(IrisMatching(trainfeature, testfeature, 2, n_components = i))\n",
    "    CosSimilarity.append(IrisMatching(trainfeature, testfeature, 1, n_components = i))\n",
    "    \n",
    "# The starting point for dimensions are 10, the end point is 100\n",
    "group_labels = [\"10\",\"20\",\"30\",\"40\",\"50\",\"60\",\"70\",\"80\",\"90\",\"100\"]\n",
    "plt.title('ROC curve of 3 distance measurement')\n",
    "plt.xlabel('n_components')\n",
    "plt.ylabel('accuracy')\n",
    " \n",
    "\n",
    "plt.plot(x, l1norm,'r', label='l1norm')\n",
    "plt.plot(x, l2norm,'b',label='l2norm')\n",
    "plt.plot(x, CosSimilarity ,'g',label='CosSimilarity')\n",
    "\n",
    "plt.xticks(x, group_labels, rotation=0)\n",
    " \n",
    "plt.legend(bbox_to_anchor=[0.3, 1])\n",
    "plt.grid()\n",
    "plt.show()"
   ]
  }
 ],
 "metadata": {
  "kernelspec": {
   "display_name": "Python 3",
   "language": "python",
   "name": "python3"
  },
  "language_info": {
   "codemirror_mode": {
    "name": "ipython",
    "version": 3
   },
   "file_extension": ".py",
   "mimetype": "text/x-python",
   "name": "python",
   "nbconvert_exporter": "python",
   "pygments_lexer": "ipython3",
   "version": "3.6.7"
  }
 },
 "nbformat": 4,
 "nbformat_minor": 2
}
